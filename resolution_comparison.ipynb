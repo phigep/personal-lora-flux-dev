{
 "cells": [
  {
   "cell_type": "code",
   "execution_count": 1,
   "metadata": {},
   "outputs": [],
   "source": [
    "import os\n",
    "import random\n",
    "from eval.eval import *\n",
    "def get_random_files(dir1, dir2):\n",
    "    \"\"\"\n",
    "    Randomly selects one file from each of two directories.\n",
    "    \n",
    "    Args:\n",
    "        dir1 (str): Path to the first directory.\n",
    "        dir2 (str): Path to the second directory.\n",
    "\n",
    "    Returns:\n",
    "        tuple: Paths to one randomly selected file from each directory.\n",
    "    \"\"\"\n",
    "    # Get list of files from each directory\n",
    "    files1 = [f for f in os.listdir(dir1) if os.path.isfile(os.path.join(dir1, f))]\n",
    "    files2 = [f for f in os.listdir(dir2) if os.path.isfile(os.path.join(dir2, f))]\n",
    "\n",
    "    # Ensure directories are not empty\n",
    "    if not files1 or not files2:\n",
    "        raise ValueError(\"One or both directories are empty.\")\n",
    "\n",
    "    # Randomly select one file from each directory\n",
    "    file1 = random.choice(files1)\n",
    "    file2 = random.choice(files2)\n",
    "\n",
    "    return os.path.join(dir1, file1), os.path.join(dir2, file2)\n",
    "\n",
    "# Example usage:\n",
    "# dir1 = \"/path/to/directory1\"\n",
    "# dir2 = \"/path/to/directory2\"\n",
    "# file1, file2 = get_random_files(dir1, dir2)\n",
    "# print(f\"Selected files: {file1}, {file2}\")\n"
   ]
  },
  {
   "cell_type": "code",
   "execution_count": null,
   "metadata": {},
   "outputs": [],
   "source": [
    "dir1=\"loras/personal-lora-fluxdev-florence2/sample\"\n",
    "dir2=\"loras/personal-lora-fluxdev-florence2-1024/sample\"\n",
    "previous = []\n",
    "scores = []\n",
    "justifications = []\n",
    "for i in range(0,80):\n",
    "    imagepath1,imagepath2 = get_random_files(dir1,dir2)\n",
    "    if imagepath1+imagepath2 in previous:\n",
    "        continue\n",
    "    previous.append(imagepath1+imagepath2)\n",
    "    b64_img1 = encode_and_prepare_image(imagepath1)\n",
    "    b64_img2 = encode_and_prepare_image(imagepath2)\n",
    "    eval_result = eval_image_quality_tournament(b64_img1,b64_img2)\n",
    "    scores.append(eval_result.score)\n",
    "    justifications.append(eval_result.textual_justification)\n",
    "\n",
    "\n"
   ]
  },
  {
   "cell_type": "code",
   "execution_count": 7,
   "metadata": {},
   "outputs": [
    {
     "data": {
      "text/plain": [
       "<Axes: >"
      ]
     },
     "execution_count": 7,
     "metadata": {},
     "output_type": "execute_result"
    },
    {
     "data": {
      "image/png": "[encoded data removed]",
      "text/plain": [
       "<Figure size 640x480 with 1 Axes>"
      ]
     },
     "metadata": {},
     "output_type": "display_data"
    }
   ],
   "source": [
    "import seaborn as sns\n",
    "sns.boxplot(scores)"
   ]
  },
  {
   "cell_type": "code",
   "execution_count": 8,
   "metadata": {},
   "outputs": [
    {
     "data": {
      "text/plain": [
       "['The first image has good fidelity and resolution, but the lighting is somewhat flat. The second image appears to have higher contrast and sharper focus, making it visually more appealing and dynamic. It also has deeper colors and better-defined features. Thus, I slightly prefer the second image in terms of quality.',\n",
       " 'Both images present quality in different aspects. The first image is an illustration, showcasing high fidelity in terms of artistic style and vivid contrast with a sharp representation of the character and background. The second image is a photograph which demonstrates high resolution and realistic image quality with balanced lighting and good detail in the outdoor setting. Each image excels in its respective category, making it difficult to prefer one over the other in terms of overall quality, resolution, and contrast.',\n",
       " \"The second image exhibits a higher overall quality. Its resolution appears sharper, maintaining details in both the subject's facial features and hair. The contrast is well-balanced, bringing out depth and dimensionality. In comparison, the first image is slightly less sharp with more natural lighting, causing the image to look a bit softer. However, both images maintain good fidelity, but the second image stands out in terms of quality and detail.\",\n",
       " 'The second image has higher fidelity and better resolution compared to the first one. The colors are more vibrant and the contrast is improved, providing a sharper and visually appealing image overall. Details such as textures and lighting are more pronounced in the second photo, contributing to its superior quality.',\n",
       " 'The second image has higher image fidelity and resolution. The details in the hair and facial features are sharper, indicating better overall quality. The contrast is also more balanced compared to the first image, where some areas appear slightly blurred or lacking in detail. The second image appears more professionally taken with clearer sharpness and lighting, contributing to its higher quality evaluation.',\n",
       " \"The second image is of higher overall quality based on resolution, image fidelity, and contrast. It has better lighting and clarity, which enhances the image's sharpness and details, compared to the first image.\",\n",
       " \"The second image has a better resolution and captures a scene with natural lighting and depth, enhancing its overall quality. The contrast and sharpness are well-balanced, offering clearer details. In comparison, the first image is more straightforward and lacks the depth and dynamic range present in the second image. However, the first image still maintains good fidelity and clarity, but isn't as composed or vibrant as the second one.\",\n",
       " 'The first image appears to be a simple photograph with decent fidelity and clarity, capturing a person sitting on a bench in a park. The resolution seems normal for a standard photo, but it lacks dynamic range and contrast enhancements.\\n\\nThe second image is a digital artwork with a high level of visual interest and contrast. It features a surreal, atmospheric composition with rich details and vibrant colors that enhance the overall quality. The lighting, shadows, and color balance are crafted to create depth and a sense of wonder, suggesting higher image fidelity and resolution in terms of artistic elements and visual impact.\\n\\nOverall, the second image demonstrates superior quality, contrast, and artistic fidelity.',\n",
       " 'The second image has noticeably better quality. It shows higher resolution and greater detail, especially in texture and clarity. The contrast is more refined, with a sharper distinction between the subject and the background, contributing to a more vibrant and realistic appearance.',\n",
       " \"The first image is an illustrated portrait with vibrant colors and clear details, while the second image is a high-resolution photograph with realistic contrast and lighting. The photograph's realism, sharpness, and natural lighting contribute to a higher overall image quality, making it stand out in fidelity and contrast compared to the illustration.\",\n",
       " 'The first image has slightly better resolution and fidelity. The subject is more prominently featured, and there is a clearer distinction between the foreground and the background. The colors in the first image also appear more vibrant, contributing to better overall contrast compared to the second image, which looks a bit dimmer and less defined.',\n",
       " 'The second image appears to have higher fidelity and resolution, with sharper details and better contrast. The colors are more vivid and balanced, providing a clearer and more visually appealing image. The first image, while decent, lacks the same level of detail and color quality.',\n",
       " \"Both images appear to have good resolution and clarity. The fidelity in the first image is good with soft lighting which highlights the subject's features well. The second image is taken outdoors with natural light and has good contrast, capturing a wider dynamic range due to more varied background details. Both images are well composed, making the overall quality very similar, neither having a distinct advantage over the other in terms of fidelity, resolution, and contrast.\",\n",
       " 'The second image is notably superior in terms of image fidelity, resolution, and overall quality. It has sharper details, better lighting, and improved contrast compared to the first image, which appears softer and less defined.',\n",
       " 'The second image appears to have a slightly better overall quality. While both images are clear, the second image seems to have more natural lighting and better contrast, making details stand out more distinctly. The resolution of both is comparable, but the second image has a cleaner look in terms of color balance and fidelity.',\n",
       " 'The second image exhibits higher resolution, better contrast, and overall superior quality compared to the first. The lighting in the second image provides a clearer and more vivid appearance, enhancing image fidelity. The first image appears darker and less sharp, indicating lower visual quality.',\n",
       " 'The second image shows higher image fidelity with vibrant colors and a dynamic background, suggesting a more advanced editing or rendering quality. The contrast in the second image is more pronounced, enhancing visual appeal. Additionally, the resolution and sharpness appear superior in the second image, suggesting a higher overall quality compared to the first.',\n",
       " \"The second image appears to have better contrast and sharper details, especially visible in the textures of the wall and the person's clothing. The lighting in the second image is also more dynamic, adding to the overall quality. The first image seems slightly less sharp and the color palette is more muted, which affects the overall resolution and fidelity.\",\n",
       " 'The second image has superior image fidelity, resolution, and contrast compared to the first image. It has a dynamic composition, with a clear focus and vivid contrast enhanced by dramatic lighting effects around the chessboard. The first image is less sharp, with flatter lighting and less dramatic usage of contrast. Thus, the second image appears to be of higher quality.',\n",
       " \"The second image exhibits higher overall quality due to better lighting and contrast, which enhances the subject's features. The background is smoothly blurred, highlighting the subject effectively. The first image has lower fidelity due to the dim lighting, which causes less contrast and softer details.\",\n",
       " 'Both images exhibit high quality in terms of fidelity and resolution. The first image shows a detailed and clear view of two individuals playing chess with a cosmic background, providing good contrast and clarity. The second image presents a more artistic, fantasy-like scene with a celestial backdrop and a focus on a single person, which also has strong contrast and artistic quality. Both images are high-quality but stylistically different, making it difficult to prefer one over the other based solely on technical quality.',\n",
       " 'The second image has higher image fidelity and resolution with sharper details and a controlled contrast that creates a dramatic and visually appealing effect. The first image, while clear, is more straightforward and less dramatic in terms of lighting and contrast, which affects the overall perceived quality in comparison.',\n",
       " \"The first image has richer contrast due to the juxtaposition of bright and dark areas, resulting in visually striking elements. The galaxy background enhances its fidelity and overall aesthetic which contributes to its quality. However, the resolution appears slightly softer than the second image.\\n\\nThe second image has a clearer resolution and sharpness, particularly on the subject and surrounding details. However, the contrast and overall image fidelity are less dynamic compared to the first image, making it appear slightly less engaging in terms of visual appeal.\\n\\nOverall, the first image's creative elements and contrast provide it with a superior quality, but the second image has a higher resolution.\",\n",
       " 'The second image is of higher quality compared to the first. It displays superior image fidelity with a more dynamic contrast, capturing vivid lighting and detail. The resolution seems sharper and clearer, enhancing the overall definition and visual appeal. In contrast, the first image appears somewhat dimly lit with less crispness in details.',\n",
       " 'The second image appears to have higher image fidelity, resolution, and overall quality. It has more vivid colors with better contrast. The details are clearer, and the lighting is more balanced compared to the first image.',\n",
       " \"The second image exhibits better contrast and lighting, enhancing the overall quality and giving it a warmer tone. The resolution appears clearer, with sharper details in the chess pieces and the players' faces. The lighting contributes to a cozy and inviting atmosphere, which improves the image's fidelity.\",\n",
       " 'The second image exhibits higher image fidelity and contrast with a more vibrant, dynamic scene, and detailed background elements. The lighting and color effects in the second image create a dramatic and visually appealing atmosphere. The first image, though clear and well-lit, is a more standard portrait with less visual complexity. The resolution appears similar, but overall artistic quality and contrast are superior in the second image.',\n",
       " 'The first image has more natural lighting and colors, giving it a more realistic appearance. However, the second image exhibits sharper details and potentially better resolution, especially on the person and the bench area. The contrast in the second image appears slightly enhanced, contributing to a crisper look compared to the first. Overall, the second image slightly edges ahead in terms of quality, but the difference is not significant.',\n",
       " 'The second image has higher fidelity and resolution. It exhibits sharper details, more accurate colors, and better contrast. The lighting and background provide a more dynamic and vivid appearance, enhancing the overall quality. The use of moonlight and indoor lighting creates a balanced and aesthetically pleasing contrast compared to the first image, which has a somewhat flatter lighting and less interesting background. Thus, the second image is of higher quality.',\n",
       " \"The second image has higher image fidelity and resolution, evidenced by the sharper details in the subjects' faces and the background. Additionally, the lighting in the second image is well-distributed, providing better contrast and color balance, which enhances overall image quality. The first image appears slightly darker with less clarity and focus on details.\",\n",
       " 'Both images have distinct qualities that make them appealing. The first image features a clear focus with a cosmic background, strong contrast, and a creative concept of a chess game amongst stars, giving it an intriguing feel. The second image displays high fidelity and resolution, with a futuristic and mysterious ambiance created by the setting. The lighting and contrast are well-executed in both images. Overall, the differences in themes and slight variations in execution balance each other out, resulting in a score of 0.5.',\n",
       " 'The second image has better lighting and clarity, showcasing good contrast and resolution, resulting in a higher quality appearance. The colors and details are more vivid compared to the first image, which seems darker and less sharp.',\n",
       " \"Both images display a similar level of image fidelity and resolution. The first image has good lighting, which highlights the subject's features clearly and provides warm tones. The contrast is adequate, though the background is a bit cluttered, which can be slightly distracting. The resolution is fine, capturing details well in the foreground.\\n\\nThe second image has natural, soft lighting with shadows, giving it a pleasant aesthetic. The subject is in focus, and the background is less cluttered, offering a cleaner appearance. However, some areas in the shadows might lose detail slightly, affecting contrast minimally.\\n\\nOverall, both images have their own strengths in terms of quality and presentation, resulting in an evenly matched comparison for fidelity, resolution, and contrast.\",\n",
       " 'Both images are of high quality with good fidelity and resolution. The first image has vivid colors and contrast due to the cosmic background, enhancing its visual appeal. The second image has a more natural setting with balanced contrast and clarity. Neither image significantly outweighs the other in terms of overall quality, making the evaluation balanced.',\n",
       " 'The second image exhibits higher image fidelity and resolution. It has a dynamic, well-composed scene with good contrast and vibrant lighting effects that create an engaging visual. The first image, while clear, is more straightforward and lacks the dramatic contrast and depth of field presented in the second. Consequently, the overall quality and aesthetic appeal of the second image result in it being rated higher.',\n",
       " 'The second image exhibits higher image fidelity and resolution, with sharper details and better contrast. The lighting is more balanced, creating a clearer and more defined portrait. The first image, while interesting, has lower contrast and fidelity, with some shadow areas lacking detail.',\n",
       " 'Both images display good quality, but they serve different purposes. The first image is a photograph and has realistic fidelity and resolution suitable for capturing real-life detail, though it lacks some contrast which makes it look less vibrant. The second image is an illustration with strong colors and contrast, providing high-quality visual appeal in an artistic style. Given the difference in form and style, neither image is superior; the quality is appropriate for their respective mediums.',\n",
       " 'The second image is of significantly higher artistic quality, with rich detail and vibrant contrast. It offers a dreamlike atmosphere with its well-composed elements and advanced visual effects, whereas the first image appears to be a simple, real-life capture with muted colors and lower contrast. The fidelity and resolution of the second image are superior, making it more visually appealing.',\n",
       " 'The second image has better image fidelity and resolution, with more defined details and a clearer focus. The contrast is also more refined, with better lighting that highlights the features effectively. The first image lacks sharpness and has less defined details, likely due to outdoor lighting and motion blur.',\n",
       " 'Both images display good fidelity, resolution, and contrast, making it challenging to prefer one significantly over the other. The first image has a more creative and dynamic composition with a background that adds depth, while the second image offers clear and focused portraiture. The balance in quality, detail, and enhancement leads to a neutral preference.',\n",
       " 'The second image has better image fidelity and contrast, with more vivid colors and sharper details than the first image. The lighting is more controlled, and the resolution appears higher, providing a clearer and more detailed visual. The first image appears to be taken outdoors in diffused light, which flattens the contrast and reduces overall sharpness compared to the second image.',\n",
       " 'The second image is noticeably higher in overall quality as compared to the first. It exhibits better contrast, allowing for more detail and depth in the image. The resolution appears higher, resulting in clearer and sharper details. Furthermore, the colors are more vibrant and well-balanced, improving image fidelity. The first image seems to have lower contrast and less sharpness, which makes it slightly less appealing from a quality perspective.',\n",
       " 'The second image has higher fidelity, resolution, and contrast. It exhibits clear details and sharpness particularly in the textures and colors, which are more pronounced compared to the first image. This suggests a better overall image quality in the second photo.',\n",
       " 'The second image is a high-quality photograph with excellent resolution and contrast, characterized by clear details and natural lighting. In contrast, the first image is an illustration with good fidelity and resolution for its style but lacks the level of detail and depth found in the second image. Therefore, the second image is of higher quality in terms of fidelity, resolution, and contrast.',\n",
       " 'The second image is of higher quality than the first. It has warmer and more vibrant colors, creating a more visually appealing scene with better contrast. The lighting in the second image is also more dynamic, which adds depth and enhances the overall quality. The composition seems more engaging, indicating a higher level of detail and resolution. Therefore, the second image scores higher in terms of fidelity and quality.',\n",
       " 'The second image appears to have higher fidelity and resolution. It shows more intricate details and has a broader range of contrasts, making it visually richer and more dynamic. The first image, while aesthetically pleasing, is simpler and has lower detail, especially in terms of background complexity and lighting effects.',\n",
       " 'The second image has a higher quality and contrast, with a more vivid and clearer background that includes well-defined details, enhancing the overall aesthetic. The lighting and colors are richer, giving it a more visually appealing and immersive feel. The first image, while having a decent composition, does not have the same level of contrast and detail.',\n",
       " 'The second image appears to have higher image fidelity, resolution, and contrast. The lighting is better controlled and the subject is more in focus, with sharper details and clearer contrast. The first image is dimly lit with less clarity and lower contrast, which affects the overall quality. Therefore, the second image is preferred.',\n",
       " 'The second image has higher resolution and fidelity, featuring rich details like the moon and ambiance of the scene. The contrast in lighting is also more pronounced, enhancing the overall composition. The first image of the dog is clear and vibrant but is more straightforward with less complexity in its visual elements.']"
      ]
     },
     "execution_count": 8,
     "metadata": {},
     "output_type": "execute_result"
    }
   ],
   "source": [
    "justifications"
   ]
  },
  {
   "cell_type": "code",
   "execution_count": null,
   "metadata": {},
   "outputs": [],
   "source": []
  }
 ],
 "metadata": {
  "kernelspec": {
   "display_name": ".venv",
   "language": "python",
   "name": "python3"
  },
  "language_info": {
   "codemirror_mode": {
    "name": "ipython",
    "version": 3
   },
   "file_extension": ".py",
   "mimetype": "text/x-python",
   "name": "python",
   "nbconvert_exporter": "python",
   "pygments_lexer": "ipython3",
   "version": "3.11.10"
  }
 },
 "nbformat": 4,
 "nbformat_minor": 2
}
